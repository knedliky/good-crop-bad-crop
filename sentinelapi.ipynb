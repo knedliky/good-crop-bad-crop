{
 "cells": [
  {
   "cell_type": "code",
   "execution_count": 6,
   "id": "a221ca01-77ea-44cd-8e52-3b5a69eb8ac3",
   "metadata": {},
   "outputs": [],
   "source": [
    "from sentinelsat import SentinelAPI, read_geojson, geojson_to_wkt"
   ]
  },
  {
   "cell_type": "code",
   "execution_count": 7,
   "id": "70b97e01-fab0-4967-8eca-c6ebd939fc09",
   "metadata": {},
   "outputs": [],
   "source": [
    "from geojson import Polygon"
   ]
  },
  {
   "cell_type": "code",
   "execution_count": 19,
   "id": "be00b697-52a2-4722-8893-89d786f5c611",
   "metadata": {},
   "outputs": [],
   "source": [
    "api = SentinelAPI('knedliky', 'Elephant764!')"
   ]
  },
  {
   "cell_type": "code",
   "execution_count": 20,
   "id": "6c2b9ca4-32fb-433b-ad90-7346d6929569",
   "metadata": {},
   "outputs": [],
   "source": [
    "footprint = geojson_to_wkt(read_geojson('data/geometries/geo-x0-y0.geojson'))"
   ]
  },
  {
   "cell_type": "code",
   "execution_count": 21,
   "id": "e8e6f7c9-cdf4-4ca3-95a4-cfcb810f22f1",
   "metadata": {},
   "outputs": [],
   "source": [
    "products = api.query(footprint,\n",
    "                     producttype='SLC',\n",
    "                     orbitdirection='ASCENDING',\n",
    "                     limit=10)"
   ]
  },
  {
   "cell_type": "code",
   "execution_count": 26,
   "id": "8abe51cf-3379-4a82-bff6-aaf3291ee894",
   "metadata": {},
   "outputs": [
    {
     "data": {
      "text/plain": [
       "OrderedDict([('2c4e486d-56ec-471a-ad9f-f273d3794f2f',\n",
       "              {'title': 'S1B_IW_SLC__1SDV_20190212T084222_20190212T084252_014910_01BD61_EE73',\n",
       "               'link': \"https://apihub.copernicus.eu/apihub/odata/v1/Products('2c4e486d-56ec-471a-ad9f-f273d3794f2f')/$value\",\n",
       "               'link_alternative': \"https://apihub.copernicus.eu/apihub/odata/v1/Products('2c4e486d-56ec-471a-ad9f-f273d3794f2f')/\",\n",
       "               'link_icon': \"https://apihub.copernicus.eu/apihub/odata/v1/Products('2c4e486d-56ec-471a-ad9f-f273d3794f2f')/Products('Quicklook')/$value\",\n",
       "               'summary': 'Date: 2019-02-12T08:42:22.743Z, Instrument: SAR-C SAR, Mode: VV VH, Satellite: Sentinel-1, Size: 7.64 GB',\n",
       "               'ondemand': 'false',\n",
       "               'ingestiondate': datetime.datetime(2019, 2, 12, 11, 31, 32, 655000),\n",
       "               'beginposition': datetime.datetime(2019, 2, 12, 8, 42, 22, 743000),\n",
       "               'endposition': datetime.datetime(2019, 2, 12, 8, 42, 52, 565000),\n",
       "               'missiondatatakeid': 114017,\n",
       "               'orbitnumber': 14910,\n",
       "               'lastorbitnumber': 14910,\n",
       "               'relativeorbitnumber': 9,\n",
       "               'lastrelativeorbitnumber': 9,\n",
       "               'slicenumber': 1,\n",
       "               'acquisitiontype': 'NOMINAL',\n",
       "               'filename': 'S1B_IW_SLC__1SDV_20190212T084222_20190212T084252_014910_01BD61_EE73.SAFE',\n",
       "               'gmlfootprint': '<gml:Polygon srsName=\"http://www.opengis.net/gml/srs/epsg.xml#4326\" xmlns:gml=\"http://www.opengis.net/gml\">\\n   <gml:outerBoundaryIs>\\n      <gml:LinearRing>\\n         <gml:coordinates>-19.135160,145.715210 -18.592237,148.032593 -20.377743,148.507401 -20.929575,146.162155 -19.135160,145.715210</gml:coordinates>\\n      </gml:LinearRing>\\n   </gml:outerBoundaryIs>\\n</gml:Polygon>',\n",
       "               'format': 'SAFE',\n",
       "               'identifier': 'S1B_IW_SLC__1SDV_20190212T084222_20190212T084252_014910_01BD61_EE73',\n",
       "               'instrumentshortname': 'SAR-C SAR',\n",
       "               'sensoroperationalmode': 'IW',\n",
       "               'instrumentname': 'Synthetic Aperture Radar (C-band)',\n",
       "               'swathidentifier': 'IW1 IW2 IW3',\n",
       "               'footprint': 'POLYGON ((145.715210 -19.135160,148.032593 -18.592237,148.507401 -20.377743,146.162155 -20.929575,145.715210 -19.135160))',\n",
       "               'platformidentifier': '2016-025A',\n",
       "               'orbitdirection': 'ASCENDING',\n",
       "               'polarisationmode': 'VV VH',\n",
       "               'productclass': 'S',\n",
       "               'producttype': 'SLC',\n",
       "               'platformname': 'Sentinel-1',\n",
       "               'size': '7.64 GB',\n",
       "               'status': 'ARCHIVED',\n",
       "               'timeliness': 'Fast-24h',\n",
       "               'uuid': '2c4e486d-56ec-471a-ad9f-f273d3794f2f'}),\n",
       "             ('c0c1bf72-c642-41b3-9e53-2142b54a7443',\n",
       "              {'title': 'S1A_IW_SLC__1SDV_20190206T084253_20190206T084323_025806_02DECC_E9F9',\n",
       "               'link': \"https://apihub.copernicus.eu/apihub/odata/v1/Products('c0c1bf72-c642-41b3-9e53-2142b54a7443')/$value\",\n",
       "               'link_alternative': \"https://apihub.copernicus.eu/apihub/odata/v1/Products('c0c1bf72-c642-41b3-9e53-2142b54a7443')/\",\n",
       "               'link_icon': \"https://apihub.copernicus.eu/apihub/odata/v1/Products('c0c1bf72-c642-41b3-9e53-2142b54a7443')/Products('Quicklook')/$value\",\n",
       "               'summary': 'Date: 2019-02-06T08:42:53.363Z, Instrument: SAR-C SAR, Mode: VV VH, Satellite: Sentinel-1, Size: 7.71 GB',\n",
       "               'ondemand': 'false',\n",
       "               'ingestiondate': datetime.datetime(2019, 2, 6, 11, 32, 53, 836000),\n",
       "               'beginposition': datetime.datetime(2019, 2, 6, 8, 42, 53, 363000),\n",
       "               'endposition': datetime.datetime(2019, 2, 6, 8, 43, 23, 179000),\n",
       "               'missiondatatakeid': 188108,\n",
       "               'orbitnumber': 25806,\n",
       "               'lastorbitnumber': 25806,\n",
       "               'relativeorbitnumber': 9,\n",
       "               'lastrelativeorbitnumber': 9,\n",
       "               'slicenumber': 1,\n",
       "               'acquisitiontype': 'NOMINAL',\n",
       "               'filename': 'S1A_IW_SLC__1SDV_20190206T084253_20190206T084323_025806_02DECC_E9F9.SAFE',\n",
       "               'gmlfootprint': '<gml:Polygon srsName=\"http://www.opengis.net/gml/srs/epsg.xml#4326\" xmlns:gml=\"http://www.opengis.net/gml\">\\n   <gml:outerBoundaryIs>\\n      <gml:LinearRing>\\n         <gml:coordinates>-19.798914,145.879227 -19.251606,148.211563 -21.036020,148.691254 -21.592421,146.329926 -19.798914,145.879227</gml:coordinates>\\n      </gml:LinearRing>\\n   </gml:outerBoundaryIs>\\n</gml:Polygon>',\n",
       "               'format': 'SAFE',\n",
       "               'identifier': 'S1A_IW_SLC__1SDV_20190206T084253_20190206T084323_025806_02DECC_E9F9',\n",
       "               'instrumentshortname': 'SAR-C SAR',\n",
       "               'sensoroperationalmode': 'IW',\n",
       "               'instrumentname': 'Synthetic Aperture Radar (C-band)',\n",
       "               'swathidentifier': 'IW1 IW2 IW3',\n",
       "               'footprint': 'POLYGON ((145.879227 -19.798914,148.211563 -19.251606,148.691254 -21.036020,146.329926 -21.592421,145.879227 -19.798914))',\n",
       "               'platformidentifier': '2014-016A',\n",
       "               'orbitdirection': 'ASCENDING',\n",
       "               'polarisationmode': 'VV VH',\n",
       "               'productclass': 'S',\n",
       "               'producttype': 'SLC',\n",
       "               'platformname': 'Sentinel-1',\n",
       "               'size': '7.71 GB',\n",
       "               'status': 'ARCHIVED',\n",
       "               'timeliness': 'Fast-24h',\n",
       "               'uuid': 'c0c1bf72-c642-41b3-9e53-2142b54a7443'}),\n",
       "             ('b7cb56eb-daad-49a1-a9da-1cab53a2d976',\n",
       "              {'title': 'S1A_IW_SLC__1SDV_20170331T083439_20170331T083514_015933_01A452_2D91',\n",
       "               'link': \"https://apihub.copernicus.eu/apihub/odata/v1/Products('b7cb56eb-daad-49a1-a9da-1cab53a2d976')/$value\",\n",
       "               'link_alternative': \"https://apihub.copernicus.eu/apihub/odata/v1/Products('b7cb56eb-daad-49a1-a9da-1cab53a2d976')/\",\n",
       "               'link_icon': \"https://apihub.copernicus.eu/apihub/odata/v1/Products('b7cb56eb-daad-49a1-a9da-1cab53a2d976')/Products('Quicklook')/$value\",\n",
       "               'summary': 'Date: 2017-03-31T08:34:39.147Z, Instrument: SAR-C SAR, Mode: VV VH, Satellite: Sentinel-1, Size: 9.28 GB',\n",
       "               'ondemand': 'false',\n",
       "               'ingestiondate': datetime.datetime(2017, 3, 31, 11, 18, 28, 518000),\n",
       "               'beginposition': datetime.datetime(2017, 3, 31, 8, 34, 39, 147000),\n",
       "               'endposition': datetime.datetime(2017, 3, 31, 8, 35, 14, 470000),\n",
       "               'missiondatatakeid': 107602,\n",
       "               'orbitnumber': 15933,\n",
       "               'lastorbitnumber': 15933,\n",
       "               'relativeorbitnumber': 111,\n",
       "               'lastrelativeorbitnumber': 111,\n",
       "               'slicenumber': 2,\n",
       "               'acquisitiontype': 'NOMINAL',\n",
       "               'filename': 'S1A_IW_SLC__1SDV_20170331T083439_20170331T083514_015933_01A452_2D91.SAFE',\n",
       "               'gmlfootprint': '<gml:Polygon srsName=\"http://www.opengis.net/gml/srs/epsg.xml#4326\" xmlns:gml=\"http://www.opengis.net/gml\">\\n   <gml:outerBoundaryIs>\\n      <gml:LinearRing>\\n         <gml:coordinates>-18.744656,147.671021 -18.201660,149.991241 -20.316751,150.551666 -20.870277,148.198746 -18.744656,147.671021</gml:coordinates>\\n      </gml:LinearRing>\\n   </gml:outerBoundaryIs>\\n</gml:Polygon>',\n",
       "               'format': 'SAFE',\n",
       "               'identifier': 'S1A_IW_SLC__1SDV_20170331T083439_20170331T083514_015933_01A452_2D91',\n",
       "               'instrumentshortname': 'SAR-C SAR',\n",
       "               'sensoroperationalmode': 'IW',\n",
       "               'instrumentname': 'Synthetic Aperture Radar (C-band)',\n",
       "               'swathidentifier': 'IW1 IW2 IW3',\n",
       "               'footprint': 'POLYGON ((147.671021 -18.744656,149.991241 -18.201660,150.551666 -20.316751,148.198746 -20.870277,147.671021 -18.744656))',\n",
       "               'platformidentifier': '2014-016A',\n",
       "               'orbitdirection': 'ASCENDING',\n",
       "               'polarisationmode': 'VV VH',\n",
       "               'productclass': 'S',\n",
       "               'producttype': 'SLC',\n",
       "               'platformname': 'Sentinel-1',\n",
       "               'size': '9.28 GB',\n",
       "               'status': 'ARCHIVED',\n",
       "               'uuid': 'b7cb56eb-daad-49a1-a9da-1cab53a2d976'})])"
      ]
     },
     "execution_count": 26,
     "metadata": {},
     "output_type": "execute_result"
    }
   ],
   "source": [
    "products"
   ]
  },
  {
   "cell_type": "code",
   "execution_count": null,
   "id": "f7198120-d28e-4e4d-92ab-b964bfe1f922",
   "metadata": {},
   "outputs": [],
   "source": []
  }
 ],
 "metadata": {
  "kernelspec": {
   "display_name": "Python 3 (ipykernel)",
   "language": "python",
   "name": "python3"
  },
  "language_info": {
   "codemirror_mode": {
    "name": "ipython",
    "version": 3
   },
   "file_extension": ".py",
   "mimetype": "text/x-python",
   "name": "python",
   "nbconvert_exporter": "python",
   "pygments_lexer": "ipython3",
   "version": "3.10.0"
  }
 },
 "nbformat": 4,
 "nbformat_minor": 5
}
